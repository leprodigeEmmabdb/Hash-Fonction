{
 "cells": [
  {
   "cell_type": "markdown",
   "id": "53b90dfe",
   "metadata": {},
   "source": [
    "# input example\n",
    "mot entré : Unikin\n",
    "Mot haché: 622\n"
   ]
  },
  {
   "cell_type": "code",
   "execution_count": 23,
   "id": "c50c3f95",
   "metadata": {},
   "outputs": [],
   "source": [
    "def hash_function(word):\n",
    "    hash_value=0\n",
    "    for letter in word:\n",
    "        hash_value+=ord(letter)\n",
    "    return hash_value"
   ]
  },
  {
   "cell_type": "code",
   "execution_count": 26,
   "id": "7d2c8c35",
   "metadata": {},
   "outputs": [],
   "source": [
    "word='Unikin'\n",
    "hash_value=hash_function(word)"
   ]
  },
  {
   "cell_type": "code",
   "execution_count": 27,
   "id": "0e939d3f",
   "metadata": {},
   "outputs": [
    {
     "name": "stdout",
     "output_type": "stream",
     "text": [
      "Mot original  U\n",
      "Mot haché  85\n"
     ]
    }
   ],
   "source": [
    "print('Mot original ',word)\n",
    "print('Mot haché ',hash_value)"
   ]
  },
  {
   "cell_type": "code",
   "execution_count": null,
   "id": "d357bec4",
   "metadata": {},
   "outputs": [],
   "source": []
  }
 ],
 "metadata": {
  "kernelspec": {
   "display_name": "Python 3 (ipykernel)",
   "language": "python",
   "name": "python3"
  },
  "language_info": {
   "codemirror_mode": {
    "name": "ipython",
    "version": 3
   },
   "file_extension": ".py",
   "mimetype": "text/x-python",
   "name": "python",
   "nbconvert_exporter": "python",
   "pygments_lexer": "ipython3",
   "version": "3.11.3"
  }
 },
 "nbformat": 4,
 "nbformat_minor": 5
}
